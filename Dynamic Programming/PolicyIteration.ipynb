{
 "cells": [
  {
   "cell_type": "code",
   "execution_count": 1,
   "metadata": {},
   "outputs": [],
   "source": [
    "import numpy as np\n",
    "import sys\n",
    "if \"../\" not in sys.path:\n",
    "  sys.path.append(\"../\") \n",
    "from lib.envs.gridworld import GridworldEnv"
   ]
  },
  {
   "cell_type": "code",
   "execution_count": 2,
   "metadata": {},
   "outputs": [],
   "source": [
    "env = GridworldEnv()\n",
    "\"\"\"\n",
    "env: OpenAI env. env.P represents the transition probabilities of the environment.\n",
    "            env.P[s][a] is a list of transition tuples (prob, next_state, reward, done).\n",
    "            env.nS is a number of states in the environment. \n",
    "            env.nA is a number of actions in the environment.\n",
    "\"\"\""
   ]
  },
  {
   "cell_type": "code",
   "execution_count": 3,
   "metadata": {},
   "outputs": [],
   "source": [
    "def policy_evaluation(policy, env, discount_rate=1.0, theta=0.00001):\n",
    "    \"\"\"\n",
    "    policy: [S, A] shaped matrix representing the policy.\n",
    "    theta: stop evaluation if changes to the values of states lesser than theta\n",
    "    \"\"\"\n",
    "    \n",
    "    V = np.zeros(env.nS)\n",
    "    while True:\n",
    "        delta = 0\n",
    "        for s in range(env.nS):\n",
    "            v = V[s]\n",
    "            new_val = 0\n",
    "            for a, a_prob in enumerate(policy[s]):\n",
    "                for prob, next_state, reward, done in env.P[s][a]:\n",
    "                    new_val += a_prob * prob * (reward + discount_rate * V[next_state])\n",
    "            V[s] = new_val\n",
    "            delta = max(delta, np.abs(v - V[s]))\n",
    "        if delta < theta:\n",
    "            break\n",
    "    return V\n",
    "        "
   ]
  },
  {
   "cell_type": "code",
   "execution_count": 27,
   "metadata": {},
   "outputs": [],
   "source": [
    "def policy_iteration(env, policy_eval_fn=policy_evaluation, discount_rate=1.0):\n",
    "    policy = np.ones([env.nS, env.nA]) / env.nA\n",
    "    while True:        \n",
    "        #policy evaluation\n",
    "        V = policy_eval_fn(policy, env, discount_rate)\n",
    "        \n",
    "        #policy improvement\n",
    "        policy_stable = True\n",
    "        for s in range(env.nS):\n",
    "            policy_a = np.argmax(policy[s])\n",
    "            A = np.zeros(env.nA)\n",
    "            for a, _ in enumerate(policy[s]):\n",
    "                for prob, next_state, reward, done in env.P[s][a]:\n",
    "                    A[a] += prob * (reward + discount_rate * V[next_state])\n",
    "            \n",
    "            max_a = np.argmax(A)\n",
    "            if policy_a != max_a:\n",
    "                policy_stable = False\n",
    "            policy[s] = np.eye(env.nA)[max_a]\n",
    "        if policy_stable:\n",
    "            return policy, V"
   ]
  },
  {
   "cell_type": "code",
   "execution_count": 28,
   "metadata": {},
   "outputs": [],
   "source": [
    "policy, v = policy_iteration(env)\n"
   ]
  },
  {
   "cell_type": "code",
   "execution_count": 37,
   "metadata": {},
   "outputs": [
    {
     "name": "stdout",
     "output_type": "stream",
     "text": [
      "Optimal Value Function:\n",
      "\n",
      "[[ 0. -1. -2. -3.]\n",
      " [-1. -2. -3. -2.]\n",
      " [-2. -3. -2. -1.]\n",
      " [-3. -2. -1.  0.]]\n"
     ]
    }
   ],
   "source": [
    "print(\"Optimal Value Function:\")\n",
    "print(\"\")\n",
    "print(v.reshape(env.shape))"
   ]
  },
  {
   "cell_type": "code",
   "execution_count": 36,
   "metadata": {},
   "outputs": [
    {
     "name": "stdout",
     "output_type": "stream",
     "text": [
      "Optimal Policy:\n",
      "\n",
      "0=up, 1=right, 2=down, 3=left\n",
      "\n",
      "[[0 3 3 2]\n",
      " [0 0 0 2]\n",
      " [0 0 1 2]\n",
      " [0 1 1 0]]\n"
     ]
    }
   ],
   "source": [
    "print(\"Optimal Policy:\")\n",
    "print(\"\")\n",
    "print(\"0=up, 1=right, 2=down, 3=left\")\n",
    "print(\"\")\n",
    "print(np.reshape(np.argmax(policy, axis=1), env.shape))"
   ]
  }
 ],
 "metadata": {
  "kernelspec": {
   "display_name": "Python 3",
   "language": "python",
   "name": "python3"
  },
  "language_info": {
   "codemirror_mode": {
    "name": "ipython",
    "version": 3
   },
   "file_extension": ".py",
   "mimetype": "text/x-python",
   "name": "python",
   "nbconvert_exporter": "python",
   "pygments_lexer": "ipython3",
   "version": "3.6.8"
  }
 },
 "nbformat": 4,
 "nbformat_minor": 2
}
