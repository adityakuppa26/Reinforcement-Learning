{
 "cells": [
  {
   "cell_type": "code",
   "execution_count": 12,
   "metadata": {},
   "outputs": [],
   "source": [
    "import numpy as np\n",
    "import sys\n",
    "if \"../\" not in sys.path:\n",
    "    sys.path.append(\"../\")\n",
    "from collections import defaultdict\n",
    "from lib import plotting\n",
    "import matplotlib\n",
    "from lib.envs.windy_gridworld import WindyGridworldEnv\n",
    "from lib.envs.random_walk import RandomWalk\n",
    "import matplotlib.pyplot as plt\n",
    "from tqdm import tqdm\n",
    "\n",
    "import itertools\n",
    "matplotlib.style.use('ggplot')\n"
   ]
  },
  {
   "cell_type": "code",
   "execution_count": 4,
   "metadata": {},
   "outputs": [],
   "source": [
    "env2= RandomWalk()"
   ]
  },
  {
   "cell_type": "code",
   "execution_count": 8,
   "metadata": {},
   "outputs": [],
   "source": [
    "def random_policy(V):\n",
    "    A = np.ones(env2.action_space.n, dtype=float)/env2.action_space.n\n",
    "    def policy(state):\n",
    "        return A\n",
    "    return policy"
   ]
  },
  {
   "cell_type": "code",
   "execution_count": 18,
   "metadata": {},
   "outputs": [],
   "source": [
    "def ntd(env, num_episodes, n, discount=1.0, alpha=0.4):\n",
    "    V = defaultdict(float)\n",
    "    policy = random_policy(V)\n",
    "    \n",
    "    \n",
    "    for ep in range(num_episodes):\n",
    "        ret = 0.0\n",
    "        episode = []\n",
    "        T = float('inf')\n",
    "        state = env.reset()\n",
    "        for t in itertools.count():\n",
    "            if t < T:\n",
    "                action = np.random.choice(np.arange(env.action_space.n), p=policy(state))\n",
    "                next_state, reward, done, _ = env.step(action)\n",
    "                episode.append((state, action, reward, next_state))\n",
    "                state = next_state\n",
    "                if done:\n",
    "                    T = t+1\n",
    "            tau = t - n + 1\n",
    "            if tau >= 0:\n",
    "                for i in range(tau, min(tau+n, T)):\n",
    "                    ret += (discount**i * episode[i][2])\n",
    "                if tau + n < T:\n",
    "                    ret += (discount**n * V[episode[tau+n-1][3]])\n",
    "                V[episode[tau][0]] = V[episode[tau][0]] + alpha*(ret - V[episode[tau][0]])\n",
    "            if tau == T-1:\n",
    "                break\n",
    "    for k in V.keys():\n",
    "        V[k] /= num_episodes\n",
    "    return V"
   ]
  },
  {
   "cell_type": "code",
   "execution_count": 19,
   "metadata": {},
   "outputs": [],
   "source": [
    "V = ntd(env2, num_episodes=10, n=4)"
   ]
  },
  {
   "cell_type": "code",
   "execution_count": 20,
   "metadata": {},
   "outputs": [
    {
     "name": "stdout",
     "output_type": "stream",
     "text": [
      "defaultdict(<class 'float'>, {12: 7.740869868624957e+32, 10: 1.865647290025596e+30, 13: 6.761406062653156e+33, 11: 8.615708110300422e+30, 14: 1.2329510089457664e+34, 15: 1.1808861704738464e+34, 16: 1.0640724400472462e+34, 17: 1.0592707461991257e+34, 18: 6.569897942142563e+33, 19: 6.564357740953107e+33, 9: 1.6005933394809075e+30, 8: 1.1392248972963058e+30, 7: 4.297055286924308e+28, 6: 6.04312672611045e+28, 5: 6.989483794705271e+28, 4: 7.2033460006901305e+28, 3: 5.036989281739275e+28, 2: 9.239782651146545e+27, 1: 2.2872412037760312e+18})\n"
     ]
    }
   ],
   "source": [
    "print(V)"
   ]
  },
  {
   "cell_type": "code",
   "execution_count": null,
   "metadata": {},
   "outputs": [],
   "source": []
  }
 ],
 "metadata": {
  "kernelspec": {
   "display_name": "Python 3",
   "language": "python",
   "name": "python3"
  },
  "language_info": {
   "codemirror_mode": {
    "name": "ipython",
    "version": 3
   },
   "file_extension": ".py",
   "mimetype": "text/x-python",
   "name": "python",
   "nbconvert_exporter": "python",
   "pygments_lexer": "ipython3",
   "version": "3.6.8"
  }
 },
 "nbformat": 4,
 "nbformat_minor": 2
}
