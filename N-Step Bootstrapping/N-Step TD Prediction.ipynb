{
 "cells": [
  {
   "cell_type": "code",
   "execution_count": 59,
   "metadata": {},
   "outputs": [],
   "source": [
    "import numpy as np\n",
    "import sys\n",
    "if \"../\" not in sys.path:\n",
    "    sys.path.append(\"../\")\n",
    "from lib.envs.random_walk import RandomWalk\n",
    "import itertools\n"
   ]
  },
  {
   "cell_type": "code",
   "execution_count": 60,
   "metadata": {},
   "outputs": [],
   "source": [
    "env2= RandomWalk()"
   ]
  },
  {
   "cell_type": "code",
   "execution_count": 61,
   "metadata": {},
   "outputs": [],
   "source": [
    "def random_policy(V):\n",
    "    A = np.ones(env2.action_space.n, dtype=float)/env2.action_space.n\n",
    "    def policy(state):\n",
    "        return A\n",
    "    return policy"
   ]
  },
  {
   "cell_type": "code",
   "execution_count": 62,
   "metadata": {},
   "outputs": [],
   "source": [
    "def n_step_TD(env, num_episodes, n, discount=1.0, alpha=0.4):\n",
    "    V = np.zeros(env.observation_space.n)\n",
    "    policy = random_policy(V)\n",
    "    \n",
    "    for ep in range(num_episodes):\n",
    "        G = 0.0\n",
    "        states = []\n",
    "        rewards=[]\n",
    "        T = float('inf')\n",
    "        state = env.reset()\n",
    "        states.append(state)\n",
    "        for t in itertools.count():\n",
    "            if t < T:\n",
    "                action = np.random.choice(np.arange(env.action_space.n), p=policy(state))\n",
    "                next_state, reward, done, _ = env.step(action)\n",
    "                rewards.append(reward)\n",
    "                states.append(next_state)\n",
    "                if done:\n",
    "                    T = t+1\n",
    "            tau = t - n + 1\n",
    "            if tau >= 0:\n",
    "                for i in range(tau, min(tau+n, T)):\n",
    "                    G = sum(discount**(i-tau) * rewards[i] for i in range(tau, min(tau+n, T)))\n",
    "                if tau + n < T:\n",
    "                    G += discount**n * V[states[tau+n]]\n",
    "                V[states[tau]] += alpha*(G - V[states[tau]])\n",
    "\n",
    "            state = next_state\n",
    "            if tau == T-1:\n",
    "                break\n",
    "    return V"
   ]
  },
  {
   "cell_type": "code",
   "execution_count": 77,
   "metadata": {},
   "outputs": [],
   "source": [
    "V = n_step_TD(env2, num_episodes=20, n=4)"
   ]
  },
  {
   "cell_type": "code",
   "execution_count": 78,
   "metadata": {},
   "outputs": [
    {
     "name": "stdout",
     "output_type": "stream",
     "text": [
      "[0.         0.         0.00122578 0.00655683 0.01808109 0.04046312\n",
      " 0.06665874 0.1880114  0.27428006 0.52058462 0.4541326  0.53091539\n",
      " 0.60474894 0.75215003 0.86844681 0.87187264 0.96231742 0.88869273\n",
      " 0.94777586 0.99024599 0.        ]\n"
     ]
    }
   ],
   "source": [
    "print(V)"
   ]
  },
  {
   "cell_type": "code",
   "execution_count": null,
   "metadata": {},
   "outputs": [],
   "source": [
    "\"\"\"\n",
    "There are two terminal states location at both the extremes of the chain of states.\n",
    "    1. The extreme right of the walk has a reward of +1\n",
    "    2. The extreme left of the walk has a reward of 0\n",
    "    \n",
    "    As you can observe from the state values above, the states  to the right have \n",
    "    higer values and the ones to the left have lower values as expected.\n",
    "\"\"\""
   ]
  }
 ],
 "metadata": {
  "kernelspec": {
   "display_name": "Python 3",
   "language": "python",
   "name": "python3"
  },
  "language_info": {
   "codemirror_mode": {
    "name": "ipython",
    "version": 3
   },
   "file_extension": ".py",
   "mimetype": "text/x-python",
   "name": "python",
   "nbconvert_exporter": "python",
   "pygments_lexer": "ipython3",
   "version": "3.6.8"
  }
 },
 "nbformat": 4,
 "nbformat_minor": 2
}
